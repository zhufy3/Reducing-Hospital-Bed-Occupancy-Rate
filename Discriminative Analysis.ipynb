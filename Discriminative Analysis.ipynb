{
 "cells": [
  {
   "cell_type": "code",
   "execution_count": 2,
   "id": "4de20070",
   "metadata": {},
   "outputs": [],
   "source": [
    "import numpy as np\n",
    "import pandas as pd\n",
    "import matplotlib.pyplot as plt\n",
    "import seaborn as sns\n",
    "import pylab\n",
    "import scipy.stats as stats\n",
    "from sklearn.cluster import KMeans\n",
    "from sklearn import tree\n",
    "import pydotplus"
   ]
  },
  {
   "cell_type": "markdown",
   "id": "35f7c43b",
   "metadata": {},
   "source": [
    "## Importing dataset"
   ]
  },
  {
   "cell_type": "code",
   "execution_count": 3,
   "id": "e84e2bdd",
   "metadata": {},
   "outputs": [
    {
     "data": {
      "text/html": [
       "<div>\n",
       "<style scoped>\n",
       "    .dataframe tbody tr th:only-of-type {\n",
       "        vertical-align: middle;\n",
       "    }\n",
       "\n",
       "    .dataframe tbody tr th {\n",
       "        vertical-align: top;\n",
       "    }\n",
       "\n",
       "    .dataframe thead th {\n",
       "        text-align: right;\n",
       "    }\n",
       "</style>\n",
       "<table border=\"1\" class=\"dataframe\">\n",
       "  <thead>\n",
       "    <tr style=\"text-align: right;\">\n",
       "      <th></th>\n",
       "      <th>case_id</th>\n",
       "      <th>Hospital_code</th>\n",
       "      <th>Hospital_type_code</th>\n",
       "      <th>City_Code_Hospital</th>\n",
       "      <th>Hospital_region_code</th>\n",
       "      <th>Available Extra Rooms in Hospital</th>\n",
       "      <th>Department</th>\n",
       "      <th>Ward_Type</th>\n",
       "      <th>Ward_Facility_Code</th>\n",
       "      <th>Bed Grade</th>\n",
       "      <th>patientid</th>\n",
       "      <th>City_Code_Patient</th>\n",
       "      <th>Type of Admission</th>\n",
       "      <th>Severity of Illness</th>\n",
       "      <th>Visitors with Patient</th>\n",
       "      <th>Age</th>\n",
       "      <th>Admission_Deposit</th>\n",
       "      <th>Stay</th>\n",
       "    </tr>\n",
       "  </thead>\n",
       "  <tbody>\n",
       "    <tr>\n",
       "      <th>0</th>\n",
       "      <td>1</td>\n",
       "      <td>8</td>\n",
       "      <td>c</td>\n",
       "      <td>3</td>\n",
       "      <td>Z</td>\n",
       "      <td>3</td>\n",
       "      <td>radiotherapy</td>\n",
       "      <td>R</td>\n",
       "      <td>F</td>\n",
       "      <td>2.0</td>\n",
       "      <td>31397</td>\n",
       "      <td>7.0</td>\n",
       "      <td>Emergency</td>\n",
       "      <td>Extreme</td>\n",
       "      <td>2</td>\n",
       "      <td>51-60</td>\n",
       "      <td>4911.0</td>\n",
       "      <td>0-10</td>\n",
       "    </tr>\n",
       "    <tr>\n",
       "      <th>1</th>\n",
       "      <td>2</td>\n",
       "      <td>2</td>\n",
       "      <td>c</td>\n",
       "      <td>5</td>\n",
       "      <td>Z</td>\n",
       "      <td>2</td>\n",
       "      <td>radiotherapy</td>\n",
       "      <td>S</td>\n",
       "      <td>F</td>\n",
       "      <td>2.0</td>\n",
       "      <td>31397</td>\n",
       "      <td>7.0</td>\n",
       "      <td>Trauma</td>\n",
       "      <td>Extreme</td>\n",
       "      <td>2</td>\n",
       "      <td>51-60</td>\n",
       "      <td>5954.0</td>\n",
       "      <td>41-50</td>\n",
       "    </tr>\n",
       "    <tr>\n",
       "      <th>2</th>\n",
       "      <td>3</td>\n",
       "      <td>10</td>\n",
       "      <td>e</td>\n",
       "      <td>1</td>\n",
       "      <td>X</td>\n",
       "      <td>2</td>\n",
       "      <td>anesthesia</td>\n",
       "      <td>S</td>\n",
       "      <td>E</td>\n",
       "      <td>2.0</td>\n",
       "      <td>31397</td>\n",
       "      <td>7.0</td>\n",
       "      <td>Trauma</td>\n",
       "      <td>Extreme</td>\n",
       "      <td>2</td>\n",
       "      <td>51-60</td>\n",
       "      <td>4745.0</td>\n",
       "      <td>31-40</td>\n",
       "    </tr>\n",
       "    <tr>\n",
       "      <th>3</th>\n",
       "      <td>4</td>\n",
       "      <td>26</td>\n",
       "      <td>b</td>\n",
       "      <td>2</td>\n",
       "      <td>Y</td>\n",
       "      <td>2</td>\n",
       "      <td>radiotherapy</td>\n",
       "      <td>R</td>\n",
       "      <td>D</td>\n",
       "      <td>2.0</td>\n",
       "      <td>31397</td>\n",
       "      <td>7.0</td>\n",
       "      <td>Trauma</td>\n",
       "      <td>Extreme</td>\n",
       "      <td>2</td>\n",
       "      <td>51-60</td>\n",
       "      <td>7272.0</td>\n",
       "      <td>41-50</td>\n",
       "    </tr>\n",
       "    <tr>\n",
       "      <th>4</th>\n",
       "      <td>5</td>\n",
       "      <td>26</td>\n",
       "      <td>b</td>\n",
       "      <td>2</td>\n",
       "      <td>Y</td>\n",
       "      <td>2</td>\n",
       "      <td>radiotherapy</td>\n",
       "      <td>S</td>\n",
       "      <td>D</td>\n",
       "      <td>2.0</td>\n",
       "      <td>31397</td>\n",
       "      <td>7.0</td>\n",
       "      <td>Trauma</td>\n",
       "      <td>Extreme</td>\n",
       "      <td>2</td>\n",
       "      <td>51-60</td>\n",
       "      <td>5558.0</td>\n",
       "      <td>41-50</td>\n",
       "    </tr>\n",
       "  </tbody>\n",
       "</table>\n",
       "</div>"
      ],
      "text/plain": [
       "   case_id  Hospital_code Hospital_type_code  City_Code_Hospital  \\\n",
       "0        1              8                  c                   3   \n",
       "1        2              2                  c                   5   \n",
       "2        3             10                  e                   1   \n",
       "3        4             26                  b                   2   \n",
       "4        5             26                  b                   2   \n",
       "\n",
       "  Hospital_region_code  Available Extra Rooms in Hospital    Department  \\\n",
       "0                    Z                                  3  radiotherapy   \n",
       "1                    Z                                  2  radiotherapy   \n",
       "2                    X                                  2    anesthesia   \n",
       "3                    Y                                  2  radiotherapy   \n",
       "4                    Y                                  2  radiotherapy   \n",
       "\n",
       "  Ward_Type Ward_Facility_Code  Bed Grade  patientid  City_Code_Patient  \\\n",
       "0         R                  F        2.0      31397                7.0   \n",
       "1         S                  F        2.0      31397                7.0   \n",
       "2         S                  E        2.0      31397                7.0   \n",
       "3         R                  D        2.0      31397                7.0   \n",
       "4         S                  D        2.0      31397                7.0   \n",
       "\n",
       "  Type of Admission Severity of Illness  Visitors with Patient    Age  \\\n",
       "0         Emergency             Extreme                      2  51-60   \n",
       "1            Trauma             Extreme                      2  51-60   \n",
       "2            Trauma             Extreme                      2  51-60   \n",
       "3            Trauma             Extreme                      2  51-60   \n",
       "4            Trauma             Extreme                      2  51-60   \n",
       "\n",
       "   Admission_Deposit   Stay  \n",
       "0             4911.0   0-10  \n",
       "1             5954.0  41-50  \n",
       "2             4745.0  31-40  \n",
       "3             7272.0  41-50  \n",
       "4             5558.0  41-50  "
      ]
     },
     "execution_count": 3,
     "metadata": {},
     "output_type": "execute_result"
    }
   ],
   "source": [
    "hel = pd.read_csv('train_data.csv')\n",
    "hel.head()"
   ]
  },
  {
   "cell_type": "markdown",
   "id": "9cbeb46e",
   "metadata": {},
   "source": [
    "## Data wrangling\n",
    "\n",
    "### Deleting useless ID variables\n",
    "\n",
    "- \"case_id\" and \"patientid\" wiil be no use for our analysis, we can delete the column first."
   ]
  },
  {
   "cell_type": "code",
   "execution_count": 82,
   "id": "c357b17d",
   "metadata": {},
   "outputs": [],
   "source": [
    "# hel = hel.drop(columns=['case_id','patientid'])"
   ]
  },
  {
   "cell_type": "code",
   "execution_count": 5,
   "id": "ba116bc1",
   "metadata": {},
   "outputs": [
    {
     "data": {
      "text/plain": [
       "Stay\n",
       "61-70                  2744\n",
       "91-100                 2765\n",
       "81-90                  4838\n",
       "More than 100 Days     6683\n",
       "71-80                 10254\n",
       "41-50                 11743\n",
       "0-10                  23604\n",
       "51-60                 35018\n",
       "31-40                 55159\n",
       "11-20                 78139\n",
       "21-30                 87491\n",
       "Name: Stay, dtype: int64"
      ]
     },
     "execution_count": 5,
     "metadata": {},
     "output_type": "execute_result"
    }
   ],
   "source": [
    "hel.groupby(by='Stay')['Stay'].count().sort_values()"
   ]
  },
  {
   "cell_type": "code",
   "execution_count": 6,
   "id": "6441a16d",
   "metadata": {},
   "outputs": [
    {
     "name": "stdout",
     "output_type": "stream",
     "text": [
      "case_id                                int64\n",
      "Hospital_code                          int64\n",
      "Hospital_type_code                    object\n",
      "City_Code_Hospital                     int64\n",
      "Hospital_region_code                  object\n",
      "Available Extra Rooms in Hospital      int64\n",
      "Department                            object\n",
      "Ward_Type                             object\n",
      "Ward_Facility_Code                    object\n",
      "Bed Grade                            float64\n",
      "patientid                              int64\n",
      "City_Code_Patient                    float64\n",
      "Type of Admission                     object\n",
      "Severity of Illness                   object\n",
      "Visitors with Patient                  int64\n",
      "Age                                   object\n",
      "Admission_Deposit                    float64\n",
      "Stay                                  object\n",
      "dtype: object\n"
     ]
    }
   ],
   "source": [
    "print(pd.DataFrame(hel).dtypes)"
   ]
  },
  {
   "cell_type": "markdown",
   "id": "a8be0647",
   "metadata": {},
   "source": [
    "### Checking missing values\n",
    "\n",
    "- Let us check NaN values in this train data set."
   ]
  },
  {
   "cell_type": "code",
   "execution_count": 7,
   "id": "8fa59cfc",
   "metadata": {},
   "outputs": [
    {
     "data": {
      "text/plain": [
       "case_id                                 0\n",
       "Hospital_code                           0\n",
       "Hospital_type_code                      0\n",
       "City_Code_Hospital                      0\n",
       "Hospital_region_code                    0\n",
       "Available Extra Rooms in Hospital       0\n",
       "Department                              0\n",
       "Ward_Type                               0\n",
       "Ward_Facility_Code                      0\n",
       "Bed Grade                             113\n",
       "patientid                               0\n",
       "City_Code_Patient                    4532\n",
       "Type of Admission                       0\n",
       "Severity of Illness                     0\n",
       "Visitors with Patient                   0\n",
       "Age                                     0\n",
       "Admission_Deposit                       0\n",
       "Stay                                    0\n",
       "dtype: int64"
      ]
     },
     "execution_count": 7,
     "metadata": {},
     "output_type": "execute_result"
    }
   ],
   "source": [
    "hel.isnull().sum()"
   ]
  },
  {
   "cell_type": "code",
   "execution_count": 8,
   "id": "725abac9",
   "metadata": {},
   "outputs": [
    {
     "name": "stdout",
     "output_type": "stream",
     "text": [
      "Rate of missing value for Bed Grade: 0.04 %\n",
      "Rate of missing value for City_Code_Patient: 1.42 %\n"
     ]
    }
   ],
   "source": [
    "print(\"Rate of missing value for Bed Grade:\",\n",
    "      round(hel['Bed Grade'].isnull().sum()/len(hel) * 100, 2),\"%\")\n",
    "print(\"Rate of missing value for City_Code_Patient:\",\n",
    "      round(hel['City_Code_Patient'].isnull().sum()/len(hel) * 100, 2),\"%\")\n"
   ]
  },
  {
   "cell_type": "markdown",
   "id": "d924f8e8",
   "metadata": {},
   "source": [
    "- Noted that only \"Bed Grade\" and \"City_Code_Patient\" have missing values. Let us dive deeper into these two variables.\n",
    "\n",
    "1. Bed Grade"
   ]
  },
  {
   "cell_type": "code",
   "execution_count": 9,
   "id": "da9e0114",
   "metadata": {},
   "outputs": [
    {
     "name": "stdout",
     "output_type": "stream",
     "text": [
      "Bed Grade\n",
      "1.0     26505\n",
      "4.0     57566\n",
      "3.0    110583\n",
      "2.0    123671\n",
      "Name: Bed Grade, dtype: int64\n",
      "Number of types: 4\n"
     ]
    }
   ],
   "source": [
    "print(hel.groupby(by='Bed Grade')['Bed Grade'].count().sort_values())\n",
    "print(\"Number of types:\",len(hel.groupby(by='Bed Grade')))"
   ]
  },
  {
   "cell_type": "markdown",
   "id": "c909ce14",
   "metadata": {},
   "source": [
    "- With 113 missing values, the variable \"Bed Grade\" has 4 types of items. The rate of missing values is quite low for this variable. Therefore, we choose to delete observations with missing values of \"Bed Grade\"."
   ]
  },
  {
   "cell_type": "code",
   "execution_count": 10,
   "id": "1563266c",
   "metadata": {},
   "outputs": [],
   "source": [
    "hel = hel.dropna(subset=[\"Bed Grade\"])\n",
    "hel = hel.reset_index(drop = True)"
   ]
  },
  {
   "cell_type": "markdown",
   "id": "8b3f9c15",
   "metadata": {},
   "source": [
    "2. City_Code_Patient\n",
    "\n",
    "- With as many as 4532 missing values, it is hard to use variable \"City_Code_Patient\" for our analysis, so it is better to delete this column from the data set."
   ]
  },
  {
   "cell_type": "code",
   "execution_count": 11,
   "id": "7712d372",
   "metadata": {},
   "outputs": [],
   "source": [
    "hel = hel.drop(columns = ['City_Code_Patient'])"
   ]
  },
  {
   "cell_type": "markdown",
   "id": "21178618",
   "metadata": {},
   "source": [
    "### Working with useless variables\n",
    "\n",
    "- Let us check each column's values in detail."
   ]
  },
  {
   "cell_type": "code",
   "execution_count": 12,
   "id": "1c1da483",
   "metadata": {},
   "outputs": [
    {
     "name": "stdout",
     "output_type": "stream",
     "text": [
      "case_id\n",
      "1         1\n",
      "2         1\n",
      "3         1\n",
      "4         1\n",
      "5         1\n",
      "         ..\n",
      "318434    1\n",
      "318435    1\n",
      "318436    1\n",
      "318437    1\n",
      "318438    1\n",
      "Name: case_id, Length: 318325, dtype: int64\n",
      "Number of types: 318325 \n",
      "\n",
      "Hospital_code\n",
      "1      5249\n",
      "2      5102\n",
      "3      7116\n",
      "4      1240\n",
      "5      5261\n",
      "6     20316\n",
      "7      1303\n",
      "8      3663\n",
      "9     11510\n",
      "10     9435\n",
      "11    17328\n",
      "12    11297\n",
      "13     5236\n",
      "14    17328\n",
      "15     9257\n",
      "16     3671\n",
      "17     5501\n",
      "18     3630\n",
      "19    21218\n",
      "20     1405\n",
      "21     8150\n",
      "22     4277\n",
      "23    26566\n",
      "24     7992\n",
      "25     9834\n",
      "26    33076\n",
      "27    14244\n",
      "28    17137\n",
      "29    11311\n",
      "30     5002\n",
      "31     3967\n",
      "32    10703\n",
      "Name: Hospital_code, dtype: int64\n",
      "Number of types: 32 \n",
      "\n",
      "Hospital_type_code\n",
      "a    143312\n",
      "b     68946\n",
      "c     45928\n",
      "d     20389\n",
      "e     24770\n",
      "f     10703\n",
      "g      4277\n",
      "Name: Hospital_type_code, dtype: int64\n",
      "Number of types: 7 \n",
      "\n",
      "City_Code_Hospital\n",
      "1     55351\n",
      "2     51809\n",
      "3     31569\n",
      "4     13854\n",
      "5     31105\n",
      "6     46882\n",
      "7     35462\n",
      "9     26277\n",
      "10     5249\n",
      "11    17137\n",
      "13     3630\n",
      "Name: City_Code_Hospital, dtype: int64\n",
      "Number of types: 11 \n",
      "\n",
      "Hospital_region_code\n",
      "X    133224\n",
      "Y    122427\n",
      "Z     62674\n",
      "Name: Hospital_region_code, dtype: int64\n",
      "Number of types: 3 \n",
      "\n",
      "Available Extra Rooms in Hospital\n",
      "0        15\n",
      "1      5582\n",
      "2     98294\n",
      "3     91482\n",
      "4     91663\n",
      "5     19283\n",
      "6      7779\n",
      "7      2876\n",
      "8      1027\n",
      "9       218\n",
      "10       67\n",
      "11       17\n",
      "12       13\n",
      "13        2\n",
      "14        1\n",
      "20        2\n",
      "21        3\n",
      "24        1\n",
      "Name: Available Extra Rooms in Hospital, dtype: int64\n",
      "Number of types: 18 \n",
      "\n",
      "Department\n",
      "TB & Chest disease      9584\n",
      "anesthesia             29647\n",
      "gynecology            249387\n",
      "radiotherapy           28506\n",
      "surgery                 1201\n",
      "Name: Department, dtype: int64\n",
      "Number of types: 5 \n",
      "\n",
      "Ward_Type\n",
      "P      5046\n",
      "Q    106125\n",
      "R    127875\n",
      "S     77793\n",
      "T      1477\n",
      "U         9\n",
      "Name: Ward_Type, dtype: int64\n",
      "Number of types: 6 \n",
      "\n",
      "Ward_Facility_Code\n",
      "A     27906\n",
      "B     35156\n",
      "C     35462\n",
      "D     51809\n",
      "E     55351\n",
      "F    112641\n",
      "Name: Ward_Facility_Code, dtype: int64\n",
      "Number of types: 6 \n",
      "\n",
      "Bed Grade\n",
      "1.0     26505\n",
      "2.0    123671\n",
      "3.0    110583\n",
      "4.0     57566\n",
      "Name: Bed Grade, dtype: int64\n",
      "Number of types: 4 \n",
      "\n",
      "patientid\n",
      "1         4\n",
      "2         2\n",
      "4         2\n",
      "6         1\n",
      "7         4\n",
      "         ..\n",
      "131620    9\n",
      "131621    3\n",
      "131622    4\n",
      "131623    2\n",
      "131624    3\n",
      "Name: patientid, Length: 92009, dtype: int64\n",
      "Number of types: 92009 \n",
      "\n",
      "Type of Admission\n",
      "Emergency    117624\n",
      "Trauma       152200\n",
      "Urgent        48501\n",
      "Name: Type of Admission, dtype: int64\n",
      "Number of types: 3 \n",
      "\n",
      "Severity of Illness\n",
      "Extreme      56682\n",
      "Minor        85850\n",
      "Moderate    175793\n",
      "Name: Severity of Illness, dtype: int64\n",
      "Number of types: 3 \n",
      "\n",
      "Visitors with Patient\n",
      "0         22\n",
      "1       1207\n",
      "2     138371\n",
      "3      59147\n",
      "4      79204\n",
      "5       9215\n",
      "6      18853\n",
      "7       2504\n",
      "8       4871\n",
      "9       1357\n",
      "10      1183\n",
      "11       327\n",
      "12       968\n",
      "13       106\n",
      "14       207\n",
      "15       194\n",
      "16       286\n",
      "17        20\n",
      "18        61\n",
      "19        12\n",
      "20        62\n",
      "21        11\n",
      "22        19\n",
      "23        10\n",
      "24        78\n",
      "25        12\n",
      "30         9\n",
      "32         9\n",
      "Name: Visitors with Patient, dtype: int64\n",
      "Number of types: 28 \n",
      "\n",
      "Age\n",
      "0-10       6254\n",
      "11-20     16763\n",
      "21-30     40828\n",
      "31-40     63613\n",
      "41-50     63716\n",
      "51-60     48497\n",
      "61-70     33681\n",
      "71-80     35784\n",
      "81-90      7887\n",
      "91-100     1302\n",
      "Name: Age, dtype: int64\n",
      "Number of types: 10 \n",
      "\n",
      "Admission_Deposit\n",
      "1800.0     1\n",
      "1801.0     1\n",
      "1802.0     2\n",
      "1805.0     1\n",
      "1807.0     1\n",
      "          ..\n",
      "10793.0    1\n",
      "10841.0    2\n",
      "10842.0    1\n",
      "10999.0    2\n",
      "11008.0    4\n",
      "Name: Admission_Deposit, Length: 7300, dtype: int64\n",
      "Number of types: 7300 \n",
      "\n",
      "Stay\n",
      "0-10                  23602\n",
      "11-20                 78120\n",
      "21-30                 87454\n",
      "31-40                 55137\n",
      "41-50                 11735\n",
      "51-60                 35005\n",
      "61-70                  2740\n",
      "71-80                 10250\n",
      "81-90                  4837\n",
      "91-100                 2764\n",
      "More than 100 Days     6681\n",
      "Name: Stay, dtype: int64\n",
      "Number of types: 11 \n",
      "\n"
     ]
    }
   ],
   "source": [
    "for i in hel.columns:\n",
    "    print(hel.groupby(by = i)[i].count())\n",
    "    print(\"Number of types:\",len(hel.groupby(by=i)),'\\n')"
   ]
  },
  {
   "cell_type": "markdown",
   "id": "b2a3d74f",
   "metadata": {},
   "source": [
    "From information above, we can take each value of variables as string data type except variable ***Admission Deposit***, which is continuous values.Let us check its distribution."
   ]
  },
  {
   "cell_type": "code",
   "execution_count": 14,
   "id": "3ed56c9d",
   "metadata": {},
   "outputs": [
    {
     "data": {
      "image/png": "[encoded data removed]",
      "text/plain": [
       "<Figure size 864x432 with 1 Axes>"
      ]
     },
     "metadata": {
      "needs_background": "light"
     },
     "output_type": "display_data"
    }
   ],
   "source": [
    "fig, ax = plt.subplots(figsize = (12,6))    \n",
    "sns.histplot(x = 'Admission_Deposit', data = hel, hue = \"Stay\",palette = 'Set2', multiple = \"stack\")\n",
    "plt.show()"
   ]
  },
  {
   "cell_type": "code",
   "execution_count": 15,
   "id": "533f023d",
   "metadata": {},
   "outputs": [
    {
     "data": {
      "image/png": "[encoded data removed]",
      "text/plain": [
       "<Figure size 432x288 with 1 Axes>"
      ]
     },
     "metadata": {
      "needs_background": "light"
     },
     "output_type": "display_data"
    }
   ],
   "source": [
    "stats.probplot(hel['Admission_Deposit'],dist = 'norm',plot = pylab)\n",
    "pylab.show()"
   ]
  },
  {
   "cell_type": "markdown",
   "id": "3c565a40",
   "metadata": {},
   "source": [
    "- Noted that the distribution of \"Admission_Deposit\" is non-normal."
   ]
  },
  {
   "cell_type": "markdown",
   "id": "98a65625",
   "metadata": {},
   "source": [
    "We need to divide this continuous variable into categories, let try dividing with quantile, curve slope and k-means clustering."
   ]
  },
  {
   "cell_type": "code",
   "execution_count": 16,
   "id": "20acbbc0",
   "metadata": {},
   "outputs": [
    {
     "data": {
      "text/plain": [
       "<AxesSubplot:>"
      ]
     },
     "execution_count": 16,
     "metadata": {},
     "output_type": "execute_result"
    },
    {
     "data": {
      "image/png": "[encoded data removed]",
      "text/plain": [
       "<Figure size 432x288 with 1 Axes>"
      ]
     },
     "metadata": {
      "needs_background": "light"
     },
     "output_type": "display_data"
    }
   ],
   "source": [
    "hel.boxplot(column = 'Admission_Deposit')"
   ]
  },
  {
   "cell_type": "code",
   "execution_count": 17,
   "id": "798f48fd",
   "metadata": {},
   "outputs": [
    {
     "data": {
      "text/plain": [
       "count    318325.000000\n",
       "mean       4880.857705\n",
       "std        1086.848051\n",
       "min        1800.000000\n",
       "25%        4186.000000\n",
       "50%        4741.000000\n",
       "75%        5409.000000\n",
       "max       11008.000000\n",
       "Name: Admission_Deposit, dtype: float64"
      ]
     },
     "execution_count": 17,
     "metadata": {},
     "output_type": "execute_result"
    }
   ],
   "source": [
    "hel['Admission_Deposit'].describe()"
   ]
  },
  {
   "cell_type": "code",
   "execution_count": 126,
   "id": "3b55d7c9",
   "metadata": {},
   "outputs": [
    {
     "name": "stdout",
     "output_type": "stream",
     "text": [
      "50-75%     79732\n",
      "25-50%     79578\n",
      "75-100%    79527\n",
      "0-25%      79488\n",
      "dtype: int64\n"
     ]
    }
   ],
   "source": [
    "## by quantile\n",
    "\n",
    "Admission = []\n",
    "q1 = np.percentile(hel[\"Admission_Deposit\"], 25)\n",
    "q2 = np.percentile(hel[\"Admission_Deposit\"], 50)\n",
    "q3 = np.percentile(hel[\"Admission_Deposit\"], 75)\n",
    "\n",
    "for i in hel[\"Admission_Deposit\"]:\n",
    "    if i < q1:\n",
    "        Admission.append('0-25%')\n",
    "    elif i > q3:\n",
    "        Admission.append('75-100%')\n",
    "    elif i < q2 and i >= q1:\n",
    "        Admission.append('25-50%')\n",
    "    else:\n",
    "        Admission.append('50-75%')\n",
    "print(pd.value_counts(Admission))"
   ]
  },
  {
   "cell_type": "code",
   "execution_count": 19,
   "id": "d71830f7",
   "metadata": {},
   "outputs": [
    {
     "name": "stdout",
     "output_type": "stream",
     "text": [
      "[1800.0, 10607.0, 10441.0, 10842.0, 11008.0]\n",
      "AD1    318271\n",
      "AD2        24\n",
      "AD3        23\n",
      "AD4         6\n",
      "Name: Admission_Deposit, dtype: int64\n"
     ]
    }
   ],
   "source": [
    "# by curve slope\n",
    "labels = ['AD1','AD2','AD3','AD4']\n",
    "n_cut = 4\n",
    "l = np.array(hel['Admission_Deposit'].sort_values())\n",
    "bins_thresh = [min(hel['Admission_Deposit'])] + list(l[i] for i in np.argsort((l[1:]-l[:-1]))[-(n_cut-1):]) + [max(l)]\n",
    "adm = pd.cut(hel['Admission_Deposit'], bins = sorted(bins_thresh), labels = labels)\n",
    "\n",
    "print(bins_thresh)\n",
    "print(pd.value_counts(adm))"
   ]
  },
  {
   "cell_type": "markdown",
   "id": "72ff27a2",
   "metadata": {},
   "source": [
    "'by curve slope' may not be a good method since the number of segment are vastly different."
   ]
  },
  {
   "cell_type": "code",
   "execution_count": 20,
   "id": "ff172a1d",
   "metadata": {},
   "outputs": [
    {
     "name": "stdout",
     "output_type": "stream",
     "text": [
      "values: [0 1 2 3]\n",
      "counts: [141585  81714  20913  74113]\n",
      "AD2    141585\n",
      "AD1     81714\n",
      "AD3     74113\n",
      "AD4     20913\n",
      "dtype: int64\n"
     ]
    }
   ],
   "source": [
    "# by clustering: AD only\n",
    "\n",
    "kmeans = KMeans(n_clusters = 4)\n",
    "\n",
    "X = np.array(hel['Admission_Deposit']).reshape(-1,1)\n",
    "kmeans.fit(X)\n",
    "y_kmeans = kmeans.predict(X)\n",
    "# print(y_kmeans)\n",
    "\n",
    "clist = np.array([y_kmeans[i] for i in hel['Admission_Deposit'].sort_values().index])\n",
    "\n",
    "values, counts = np.unique(y_kmeans, return_counts = True)\n",
    "print('values:', values)\n",
    "print('counts:', counts)\n",
    "\n",
    "mapping = np.append(clist[0], clist[1:][clist[1:] != clist[:-1]])\n",
    "AD_clustering = [labels[int(np.where(mapping == i)[0])] for i in y_kmeans]\n",
    "print(pd.value_counts(AD_clustering))"
   ]
  },
  {
   "cell_type": "markdown",
   "id": "aea0a96b",
   "metadata": {},
   "source": [
    "We take the outcome of dividing by k-means because it considers intra and internal distances."
   ]
  },
  {
   "cell_type": "code",
   "execution_count": 21,
   "id": "102377da",
   "metadata": {},
   "outputs": [],
   "source": [
    "tr_hel = hel.copy()\n",
    "tr_hel[\"Admission_Deposit\"] = AD_clustering"
   ]
  },
  {
   "cell_type": "code",
   "execution_count": 22,
   "id": "98ad4c54",
   "metadata": {},
   "outputs": [
    {
     "data": {
      "text/html": [
       "<div>\n",
       "<style scoped>\n",
       "    .dataframe tbody tr th:only-of-type {\n",
       "        vertical-align: middle;\n",
       "    }\n",
       "\n",
       "    .dataframe tbody tr th {\n",
       "        vertical-align: top;\n",
       "    }\n",
       "\n",
       "    .dataframe thead th {\n",
       "        text-align: right;\n",
       "    }\n",
       "</style>\n",
       "<table border=\"1\" class=\"dataframe\">\n",
       "  <thead>\n",
       "    <tr style=\"text-align: right;\">\n",
       "      <th></th>\n",
       "      <th>case_id</th>\n",
       "      <th>Hospital_code</th>\n",
       "      <th>Hospital_type_code</th>\n",
       "      <th>City_Code_Hospital</th>\n",
       "      <th>Hospital_region_code</th>\n",
       "      <th>Available Extra Rooms in Hospital</th>\n",
       "      <th>Department</th>\n",
       "      <th>Ward_Type</th>\n",
       "      <th>Ward_Facility_Code</th>\n",
       "      <th>Bed Grade</th>\n",
       "      <th>patientid</th>\n",
       "      <th>Type of Admission</th>\n",
       "      <th>Severity of Illness</th>\n",
       "      <th>Visitors with Patient</th>\n",
       "      <th>Age</th>\n",
       "      <th>Admission_Deposit</th>\n",
       "      <th>Stay</th>\n",
       "    </tr>\n",
       "  </thead>\n",
       "  <tbody>\n",
       "    <tr>\n",
       "      <th>318320</th>\n",
       "      <td>318434</td>\n",
       "      <td>6</td>\n",
       "      <td>a</td>\n",
       "      <td>6</td>\n",
       "      <td>X</td>\n",
       "      <td>3</td>\n",
       "      <td>radiotherapy</td>\n",
       "      <td>Q</td>\n",
       "      <td>F</td>\n",
       "      <td>4.0</td>\n",
       "      <td>86499</td>\n",
       "      <td>Emergency</td>\n",
       "      <td>Moderate</td>\n",
       "      <td>3</td>\n",
       "      <td>41-50</td>\n",
       "      <td>AD1</td>\n",
       "      <td>11-20</td>\n",
       "    </tr>\n",
       "    <tr>\n",
       "      <th>318321</th>\n",
       "      <td>318435</td>\n",
       "      <td>24</td>\n",
       "      <td>a</td>\n",
       "      <td>1</td>\n",
       "      <td>X</td>\n",
       "      <td>2</td>\n",
       "      <td>anesthesia</td>\n",
       "      <td>Q</td>\n",
       "      <td>E</td>\n",
       "      <td>4.0</td>\n",
       "      <td>325</td>\n",
       "      <td>Urgent</td>\n",
       "      <td>Moderate</td>\n",
       "      <td>4</td>\n",
       "      <td>81-90</td>\n",
       "      <td>AD4</td>\n",
       "      <td>31-40</td>\n",
       "    </tr>\n",
       "    <tr>\n",
       "      <th>318322</th>\n",
       "      <td>318436</td>\n",
       "      <td>7</td>\n",
       "      <td>a</td>\n",
       "      <td>4</td>\n",
       "      <td>X</td>\n",
       "      <td>3</td>\n",
       "      <td>gynecology</td>\n",
       "      <td>R</td>\n",
       "      <td>F</td>\n",
       "      <td>4.0</td>\n",
       "      <td>125235</td>\n",
       "      <td>Emergency</td>\n",
       "      <td>Minor</td>\n",
       "      <td>3</td>\n",
       "      <td>71-80</td>\n",
       "      <td>AD2</td>\n",
       "      <td>11-20</td>\n",
       "    </tr>\n",
       "    <tr>\n",
       "      <th>318323</th>\n",
       "      <td>318437</td>\n",
       "      <td>11</td>\n",
       "      <td>b</td>\n",
       "      <td>2</td>\n",
       "      <td>Y</td>\n",
       "      <td>3</td>\n",
       "      <td>anesthesia</td>\n",
       "      <td>Q</td>\n",
       "      <td>D</td>\n",
       "      <td>3.0</td>\n",
       "      <td>91081</td>\n",
       "      <td>Trauma</td>\n",
       "      <td>Minor</td>\n",
       "      <td>5</td>\n",
       "      <td>11-20</td>\n",
       "      <td>AD1</td>\n",
       "      <td>11-20</td>\n",
       "    </tr>\n",
       "    <tr>\n",
       "      <th>318324</th>\n",
       "      <td>318438</td>\n",
       "      <td>19</td>\n",
       "      <td>a</td>\n",
       "      <td>7</td>\n",
       "      <td>Y</td>\n",
       "      <td>5</td>\n",
       "      <td>gynecology</td>\n",
       "      <td>Q</td>\n",
       "      <td>C</td>\n",
       "      <td>2.0</td>\n",
       "      <td>21641</td>\n",
       "      <td>Emergency</td>\n",
       "      <td>Minor</td>\n",
       "      <td>2</td>\n",
       "      <td>11-20</td>\n",
       "      <td>AD2</td>\n",
       "      <td>0-10</td>\n",
       "    </tr>\n",
       "  </tbody>\n",
       "</table>\n",
       "</div>"
      ],
      "text/plain": [
       "        case_id  Hospital_code Hospital_type_code  City_Code_Hospital  \\\n",
       "318320   318434              6                  a                   6   \n",
       "318321   318435             24                  a                   1   \n",
       "318322   318436              7                  a                   4   \n",
       "318323   318437             11                  b                   2   \n",
       "318324   318438             19                  a                   7   \n",
       "\n",
       "       Hospital_region_code  Available Extra Rooms in Hospital    Department  \\\n",
       "318320                    X                                  3  radiotherapy   \n",
       "318321                    X                                  2    anesthesia   \n",
       "318322                    X                                  3    gynecology   \n",
       "318323                    Y                                  3    anesthesia   \n",
       "318324                    Y                                  5    gynecology   \n",
       "\n",
       "       Ward_Type Ward_Facility_Code  Bed Grade  patientid Type of Admission  \\\n",
       "318320         Q                  F        4.0      86499         Emergency   \n",
       "318321         Q                  E        4.0        325            Urgent   \n",
       "318322         R                  F        4.0     125235         Emergency   \n",
       "318323         Q                  D        3.0      91081            Trauma   \n",
       "318324         Q                  C        2.0      21641         Emergency   \n",
       "\n",
       "       Severity of Illness  Visitors with Patient    Age Admission_Deposit  \\\n",
       "318320            Moderate                      3  41-50               AD1   \n",
       "318321            Moderate                      4  81-90               AD4   \n",
       "318322               Minor                      3  71-80               AD2   \n",
       "318323               Minor                      5  11-20               AD1   \n",
       "318324               Minor                      2  11-20               AD2   \n",
       "\n",
       "         Stay  \n",
       "318320  11-20  \n",
       "318321  31-40  \n",
       "318322  11-20  \n",
       "318323  11-20  \n",
       "318324   0-10  "
      ]
     },
     "execution_count": 22,
     "metadata": {},
     "output_type": "execute_result"
    }
   ],
   "source": [
    "tr_hel.tail()"
   ]
  },
  {
   "cell_type": "markdown",
   "id": "b3306966",
   "metadata": {},
   "source": [
    "## Data recoding\n",
    "\n",
    "Now in order to use **Frequent Pattern Mining**, we need to make items from each variable unique, so we recode those variables with same items. For the column ***Hospital_code***, we add 100 for each value to make it differentiated from ***City_Code_Hospital*** and ***Visitors with Patient***."
   ]
  },
  {
   "cell_type": "code",
   "execution_count": 190,
   "id": "5f03ffa1",
   "metadata": {},
   "outputs": [
    {
     "data": {
      "text/plain": [
       "0         108\n",
       "1         102\n",
       "2         110\n",
       "3         126\n",
       "4         126\n",
       "         ... \n",
       "318320    106\n",
       "318321    124\n",
       "318322    107\n",
       "318323    111\n",
       "318324    119\n",
       "Name: Hospital_code, Length: 318325, dtype: int64"
      ]
     },
     "execution_count": 190,
     "metadata": {},
     "output_type": "execute_result"
    }
   ],
   "source": [
    "# 1 ~ 32 --> 101 ~ 132\n",
    "\n",
    "tr_hel[\"Hospital_code\"] = tr_hel[\"Hospital_code\"] + pd.Series([100]*len(hel))\n",
    "tr_hel[\"Hospital_code\"]"
   ]
  },
  {
   "cell_type": "markdown",
   "id": "1a430f0c",
   "metadata": {},
   "source": [
    "- For the column \"City_Code_Hospital\", we add 40 for each value to make it differentiated from \"Visitors with Patient\"."
   ]
  },
  {
   "cell_type": "code",
   "execution_count": 191,
   "id": "e5ae6ef2",
   "metadata": {},
   "outputs": [
    {
     "data": {
      "text/plain": [
       "0         43\n",
       "1         45\n",
       "2         41\n",
       "3         42\n",
       "4         42\n",
       "          ..\n",
       "318320    46\n",
       "318321    41\n",
       "318322    44\n",
       "318323    42\n",
       "318324    47\n",
       "Name: City_Code_Hospital, Length: 318325, dtype: int64"
      ]
     },
     "execution_count": 191,
     "metadata": {},
     "output_type": "execute_result"
    }
   ],
   "source": [
    "# 1 ~ 13 --> 41 ~ 53\n",
    "\n",
    "tr_hel[\"City_Code_Hospital\"] = tr_hel[\"City_Code_Hospital\"]+pd.Series([40]*len(hel))\n",
    "tr_hel[\"City_Code_Hospital\"]"
   ]
  },
  {
   "cell_type": "markdown",
   "id": "b575748a",
   "metadata": {},
   "source": [
    "- For the column \"Bed Grade\", we change it to \"b1\", \"b2\", \"b3\" and \"b4\"."
   ]
  },
  {
   "cell_type": "code",
   "execution_count": 192,
   "id": "b2edd5c9",
   "metadata": {},
   "outputs": [
    {
     "data": {
      "text/html": [
       "<div>\n",
       "<style scoped>\n",
       "    .dataframe tbody tr th:only-of-type {\n",
       "        vertical-align: middle;\n",
       "    }\n",
       "\n",
       "    .dataframe tbody tr th {\n",
       "        vertical-align: top;\n",
       "    }\n",
       "\n",
       "    .dataframe thead th {\n",
       "        text-align: right;\n",
       "    }\n",
       "</style>\n",
       "<table border=\"1\" class=\"dataframe\">\n",
       "  <thead>\n",
       "    <tr style=\"text-align: right;\">\n",
       "      <th></th>\n",
       "      <th>case_id</th>\n",
       "      <th>Hospital_code</th>\n",
       "      <th>Hospital_type_code</th>\n",
       "      <th>City_Code_Hospital</th>\n",
       "      <th>Hospital_region_code</th>\n",
       "      <th>Available Extra Rooms in Hospital</th>\n",
       "      <th>Department</th>\n",
       "      <th>Ward_Type</th>\n",
       "      <th>Ward_Facility_Code</th>\n",
       "      <th>Bed Grade</th>\n",
       "      <th>patientid</th>\n",
       "      <th>Type of Admission</th>\n",
       "      <th>Severity of Illness</th>\n",
       "      <th>Visitors with Patient</th>\n",
       "      <th>Age</th>\n",
       "      <th>Admission_Deposit</th>\n",
       "      <th>Stay</th>\n",
       "      <th>BedGrade</th>\n",
       "    </tr>\n",
       "  </thead>\n",
       "  <tbody>\n",
       "    <tr>\n",
       "      <th>0</th>\n",
       "      <td>1</td>\n",
       "      <td>108</td>\n",
       "      <td>c</td>\n",
       "      <td>43</td>\n",
       "      <td>Z</td>\n",
       "      <td>3</td>\n",
       "      <td>radiotherapy</td>\n",
       "      <td>R</td>\n",
       "      <td>F</td>\n",
       "      <td>2.0</td>\n",
       "      <td>31397</td>\n",
       "      <td>Emergency</td>\n",
       "      <td>Extreme</td>\n",
       "      <td>2</td>\n",
       "      <td>51-60</td>\n",
       "      <td>AD2</td>\n",
       "      <td>0-10</td>\n",
       "      <td>b2</td>\n",
       "    </tr>\n",
       "    <tr>\n",
       "      <th>1</th>\n",
       "      <td>2</td>\n",
       "      <td>102</td>\n",
       "      <td>c</td>\n",
       "      <td>45</td>\n",
       "      <td>Z</td>\n",
       "      <td>2</td>\n",
       "      <td>radiotherapy</td>\n",
       "      <td>S</td>\n",
       "      <td>F</td>\n",
       "      <td>2.0</td>\n",
       "      <td>31397</td>\n",
       "      <td>Trauma</td>\n",
       "      <td>Extreme</td>\n",
       "      <td>2</td>\n",
       "      <td>51-60</td>\n",
       "      <td>AD3</td>\n",
       "      <td>41-50</td>\n",
       "      <td>b2</td>\n",
       "    </tr>\n",
       "    <tr>\n",
       "      <th>2</th>\n",
       "      <td>3</td>\n",
       "      <td>110</td>\n",
       "      <td>e</td>\n",
       "      <td>41</td>\n",
       "      <td>X</td>\n",
       "      <td>2</td>\n",
       "      <td>anesthesia</td>\n",
       "      <td>S</td>\n",
       "      <td>E</td>\n",
       "      <td>2.0</td>\n",
       "      <td>31397</td>\n",
       "      <td>Trauma</td>\n",
       "      <td>Extreme</td>\n",
       "      <td>2</td>\n",
       "      <td>51-60</td>\n",
       "      <td>AD2</td>\n",
       "      <td>31-40</td>\n",
       "      <td>b2</td>\n",
       "    </tr>\n",
       "    <tr>\n",
       "      <th>3</th>\n",
       "      <td>4</td>\n",
       "      <td>126</td>\n",
       "      <td>b</td>\n",
       "      <td>42</td>\n",
       "      <td>Y</td>\n",
       "      <td>2</td>\n",
       "      <td>radiotherapy</td>\n",
       "      <td>R</td>\n",
       "      <td>D</td>\n",
       "      <td>2.0</td>\n",
       "      <td>31397</td>\n",
       "      <td>Trauma</td>\n",
       "      <td>Extreme</td>\n",
       "      <td>2</td>\n",
       "      <td>51-60</td>\n",
       "      <td>AD4</td>\n",
       "      <td>41-50</td>\n",
       "      <td>b2</td>\n",
       "    </tr>\n",
       "    <tr>\n",
       "      <th>4</th>\n",
       "      <td>5</td>\n",
       "      <td>126</td>\n",
       "      <td>b</td>\n",
       "      <td>42</td>\n",
       "      <td>Y</td>\n",
       "      <td>2</td>\n",
       "      <td>radiotherapy</td>\n",
       "      <td>S</td>\n",
       "      <td>D</td>\n",
       "      <td>2.0</td>\n",
       "      <td>31397</td>\n",
       "      <td>Trauma</td>\n",
       "      <td>Extreme</td>\n",
       "      <td>2</td>\n",
       "      <td>51-60</td>\n",
       "      <td>AD3</td>\n",
       "      <td>41-50</td>\n",
       "      <td>b2</td>\n",
       "    </tr>\n",
       "    <tr>\n",
       "      <th>...</th>\n",
       "      <td>...</td>\n",
       "      <td>...</td>\n",
       "      <td>...</td>\n",
       "      <td>...</td>\n",
       "      <td>...</td>\n",
       "      <td>...</td>\n",
       "      <td>...</td>\n",
       "      <td>...</td>\n",
       "      <td>...</td>\n",
       "      <td>...</td>\n",
       "      <td>...</td>\n",
       "      <td>...</td>\n",
       "      <td>...</td>\n",
       "      <td>...</td>\n",
       "      <td>...</td>\n",
       "      <td>...</td>\n",
       "      <td>...</td>\n",
       "      <td>...</td>\n",
       "    </tr>\n",
       "    <tr>\n",
       "      <th>318320</th>\n",
       "      <td>318434</td>\n",
       "      <td>106</td>\n",
       "      <td>a</td>\n",
       "      <td>46</td>\n",
       "      <td>X</td>\n",
       "      <td>3</td>\n",
       "      <td>radiotherapy</td>\n",
       "      <td>Q</td>\n",
       "      <td>F</td>\n",
       "      <td>4.0</td>\n",
       "      <td>86499</td>\n",
       "      <td>Emergency</td>\n",
       "      <td>Moderate</td>\n",
       "      <td>3</td>\n",
       "      <td>41-50</td>\n",
       "      <td>AD1</td>\n",
       "      <td>11-20</td>\n",
       "      <td>b4</td>\n",
       "    </tr>\n",
       "    <tr>\n",
       "      <th>318321</th>\n",
       "      <td>318435</td>\n",
       "      <td>124</td>\n",
       "      <td>a</td>\n",
       "      <td>41</td>\n",
       "      <td>X</td>\n",
       "      <td>2</td>\n",
       "      <td>anesthesia</td>\n",
       "      <td>Q</td>\n",
       "      <td>E</td>\n",
       "      <td>4.0</td>\n",
       "      <td>325</td>\n",
       "      <td>Urgent</td>\n",
       "      <td>Moderate</td>\n",
       "      <td>4</td>\n",
       "      <td>81-90</td>\n",
       "      <td>AD4</td>\n",
       "      <td>31-40</td>\n",
       "      <td>b4</td>\n",
       "    </tr>\n",
       "    <tr>\n",
       "      <th>318322</th>\n",
       "      <td>318436</td>\n",
       "      <td>107</td>\n",
       "      <td>a</td>\n",
       "      <td>44</td>\n",
       "      <td>X</td>\n",
       "      <td>3</td>\n",
       "      <td>gynecology</td>\n",
       "      <td>R</td>\n",
       "      <td>F</td>\n",
       "      <td>4.0</td>\n",
       "      <td>125235</td>\n",
       "      <td>Emergency</td>\n",
       "      <td>Minor</td>\n",
       "      <td>3</td>\n",
       "      <td>71-80</td>\n",
       "      <td>AD2</td>\n",
       "      <td>11-20</td>\n",
       "      <td>b4</td>\n",
       "    </tr>\n",
       "    <tr>\n",
       "      <th>318323</th>\n",
       "      <td>318437</td>\n",
       "      <td>111</td>\n",
       "      <td>b</td>\n",
       "      <td>42</td>\n",
       "      <td>Y</td>\n",
       "      <td>3</td>\n",
       "      <td>anesthesia</td>\n",
       "      <td>Q</td>\n",
       "      <td>D</td>\n",
       "      <td>3.0</td>\n",
       "      <td>91081</td>\n",
       "      <td>Trauma</td>\n",
       "      <td>Minor</td>\n",
       "      <td>5</td>\n",
       "      <td>11-20</td>\n",
       "      <td>AD1</td>\n",
       "      <td>11-20</td>\n",
       "      <td>b3</td>\n",
       "    </tr>\n",
       "    <tr>\n",
       "      <th>318324</th>\n",
       "      <td>318438</td>\n",
       "      <td>119</td>\n",
       "      <td>a</td>\n",
       "      <td>47</td>\n",
       "      <td>Y</td>\n",
       "      <td>5</td>\n",
       "      <td>gynecology</td>\n",
       "      <td>Q</td>\n",
       "      <td>C</td>\n",
       "      <td>2.0</td>\n",
       "      <td>21641</td>\n",
       "      <td>Emergency</td>\n",
       "      <td>Minor</td>\n",
       "      <td>2</td>\n",
       "      <td>11-20</td>\n",
       "      <td>AD2</td>\n",
       "      <td>0-10</td>\n",
       "      <td>b2</td>\n",
       "    </tr>\n",
       "  </tbody>\n",
       "</table>\n",
       "<p>318325 rows × 18 columns</p>\n",
       "</div>"
      ],
      "text/plain": [
       "        case_id  Hospital_code Hospital_type_code  City_Code_Hospital  \\\n",
       "0             1            108                  c                  43   \n",
       "1             2            102                  c                  45   \n",
       "2             3            110                  e                  41   \n",
       "3             4            126                  b                  42   \n",
       "4             5            126                  b                  42   \n",
       "...         ...            ...                ...                 ...   \n",
       "318320   318434            106                  a                  46   \n",
       "318321   318435            124                  a                  41   \n",
       "318322   318436            107                  a                  44   \n",
       "318323   318437            111                  b                  42   \n",
       "318324   318438            119                  a                  47   \n",
       "\n",
       "       Hospital_region_code  Available Extra Rooms in Hospital    Department  \\\n",
       "0                         Z                                  3  radiotherapy   \n",
       "1                         Z                                  2  radiotherapy   \n",
       "2                         X                                  2    anesthesia   \n",
       "3                         Y                                  2  radiotherapy   \n",
       "4                         Y                                  2  radiotherapy   \n",
       "...                     ...                                ...           ...   \n",
       "318320                    X                                  3  radiotherapy   \n",
       "318321                    X                                  2    anesthesia   \n",
       "318322                    X                                  3    gynecology   \n",
       "318323                    Y                                  3    anesthesia   \n",
       "318324                    Y                                  5    gynecology   \n",
       "\n",
       "       Ward_Type Ward_Facility_Code  Bed Grade  patientid Type of Admission  \\\n",
       "0              R                  F        2.0      31397         Emergency   \n",
       "1              S                  F        2.0      31397            Trauma   \n",
       "2              S                  E        2.0      31397            Trauma   \n",
       "3              R                  D        2.0      31397            Trauma   \n",
       "4              S                  D        2.0      31397            Trauma   \n",
       "...          ...                ...        ...        ...               ...   \n",
       "318320         Q                  F        4.0      86499         Emergency   \n",
       "318321         Q                  E        4.0        325            Urgent   \n",
       "318322         R                  F        4.0     125235         Emergency   \n",
       "318323         Q                  D        3.0      91081            Trauma   \n",
       "318324         Q                  C        2.0      21641         Emergency   \n",
       "\n",
       "       Severity of Illness  Visitors with Patient    Age Admission_Deposit  \\\n",
       "0                  Extreme                      2  51-60               AD2   \n",
       "1                  Extreme                      2  51-60               AD3   \n",
       "2                  Extreme                      2  51-60               AD2   \n",
       "3                  Extreme                      2  51-60               AD4   \n",
       "4                  Extreme                      2  51-60               AD3   \n",
       "...                    ...                    ...    ...               ...   \n",
       "318320            Moderate                      3  41-50               AD1   \n",
       "318321            Moderate                      4  81-90               AD4   \n",
       "318322               Minor                      3  71-80               AD2   \n",
       "318323               Minor                      5  11-20               AD1   \n",
       "318324               Minor                      2  11-20               AD2   \n",
       "\n",
       "         Stay BedGrade  \n",
       "0        0-10       b2  \n",
       "1       41-50       b2  \n",
       "2       31-40       b2  \n",
       "3       41-50       b2  \n",
       "4       41-50       b2  \n",
       "...       ...      ...  \n",
       "318320  11-20       b4  \n",
       "318321  31-40       b4  \n",
       "318322  11-20       b4  \n",
       "318323  11-20       b3  \n",
       "318324   0-10       b2  \n",
       "\n",
       "[318325 rows x 18 columns]"
      ]
     },
     "execution_count": 192,
     "metadata": {},
     "output_type": "execute_result"
    }
   ],
   "source": [
    "Bed_Grade_mapping = {1.0: \"b1\", 2.0: \"b2\", 3.0: \"b3\", 4.0: \"b4\"}\n",
    "tr_hel.assign(BedGrade = tr_hel[\"Bed Grade\"].map(Bed_Grade_mapping))"
   ]
  },
  {
   "cell_type": "code",
   "execution_count": 193,
   "id": "7debff96",
   "metadata": {},
   "outputs": [],
   "source": [
    "tr_hel=tr_hel.drop(columns=['Bed Grade'])"
   ]
  },
  {
   "cell_type": "markdown",
   "id": "1ceb8609",
   "metadata": {},
   "source": [
    "- To differentiate ***Age*** and ***Stay***, we add ' d' to the values of ***Stay***.\n",
    "- Add 'c' in front of the values of ***case_id***.\n",
    "- Add 'p' in front of the values of ***patientid***."
   ]
  },
  {
   "cell_type": "code",
   "execution_count": 194,
   "id": "3e214a53",
   "metadata": {},
   "outputs": [],
   "source": [
    "stay=[]\n",
    "for i in tr_hel[\"Stay\"].values:\n",
    "    stay.append(i+\" d\")\n",
    "tr_hel[\"Stay\"] = stay\n",
    "caseid = []\n",
    "for i in tr_hel[\"case_id\"].values:\n",
    "    caseid.append(\"c\" + str(i))\n",
    "tr_hel[\"case_id\"] = caseid\n",
    "patientid = []\n",
    "for i in tr_hel[\"patientid\"].values:\n",
    "    patientid.append(\"p\" + str(i))\n",
    "tr_hel[\"patientid\"] = patientid"
   ]
  },
  {
   "cell_type": "markdown",
   "id": "c4f8a2ee",
   "metadata": {},
   "source": [
    "- For the column ***City_Code_Hospital***, we add 40 for each value to make it differentiated from ***Visitors with Patient***."
   ]
  },
  {
   "cell_type": "code",
   "execution_count": 195,
   "id": "3daa79ac",
   "metadata": {},
   "outputs": [
    {
     "data": {
      "text/plain": [
       "0         63\n",
       "1         62\n",
       "2         62\n",
       "3         62\n",
       "4         62\n",
       "          ..\n",
       "318320    63\n",
       "318321    62\n",
       "318322    63\n",
       "318323    63\n",
       "318324    65\n",
       "Name: Available Extra Rooms in Hospital, Length: 318325, dtype: int64"
      ]
     },
     "execution_count": 195,
     "metadata": {},
     "output_type": "execute_result"
    }
   ],
   "source": [
    "tr_hel[\"Available Extra Rooms in Hospital\"] = tr_hel[\"Available Extra Rooms in Hospital\"]+pd.Series([60]*len(hel))\n",
    "tr_hel[\"Available Extra Rooms in Hospital\"]"
   ]
  },
  {
   "cell_type": "code",
   "execution_count": 196,
   "id": "5428c03a",
   "metadata": {},
   "outputs": [
    {
     "data": {
      "text/html": [
       "<div>\n",
       "<style scoped>\n",
       "    .dataframe tbody tr th:only-of-type {\n",
       "        vertical-align: middle;\n",
       "    }\n",
       "\n",
       "    .dataframe tbody tr th {\n",
       "        vertical-align: top;\n",
       "    }\n",
       "\n",
       "    .dataframe thead th {\n",
       "        text-align: right;\n",
       "    }\n",
       "</style>\n",
       "<table border=\"1\" class=\"dataframe\">\n",
       "  <thead>\n",
       "    <tr style=\"text-align: right;\">\n",
       "      <th></th>\n",
       "      <th>case_id</th>\n",
       "      <th>Hospital_code</th>\n",
       "      <th>Hospital_type_code</th>\n",
       "      <th>City_Code_Hospital</th>\n",
       "      <th>Hospital_region_code</th>\n",
       "      <th>Available Extra Rooms in Hospital</th>\n",
       "      <th>Department</th>\n",
       "      <th>Ward_Type</th>\n",
       "      <th>Ward_Facility_Code</th>\n",
       "      <th>patientid</th>\n",
       "      <th>Type of Admission</th>\n",
       "      <th>Severity of Illness</th>\n",
       "      <th>Visitors with Patient</th>\n",
       "      <th>Age</th>\n",
       "      <th>Admission_Deposit</th>\n",
       "      <th>Stay</th>\n",
       "    </tr>\n",
       "  </thead>\n",
       "  <tbody>\n",
       "    <tr>\n",
       "      <th>0</th>\n",
       "      <td>c1</td>\n",
       "      <td>108</td>\n",
       "      <td>c</td>\n",
       "      <td>43</td>\n",
       "      <td>Z</td>\n",
       "      <td>63</td>\n",
       "      <td>radiotherapy</td>\n",
       "      <td>R</td>\n",
       "      <td>F</td>\n",
       "      <td>p31397</td>\n",
       "      <td>Emergency</td>\n",
       "      <td>Extreme</td>\n",
       "      <td>2</td>\n",
       "      <td>51-60</td>\n",
       "      <td>AD2</td>\n",
       "      <td>0-10 d</td>\n",
       "    </tr>\n",
       "    <tr>\n",
       "      <th>1</th>\n",
       "      <td>c2</td>\n",
       "      <td>102</td>\n",
       "      <td>c</td>\n",
       "      <td>45</td>\n",
       "      <td>Z</td>\n",
       "      <td>62</td>\n",
       "      <td>radiotherapy</td>\n",
       "      <td>S</td>\n",
       "      <td>F</td>\n",
       "      <td>p31397</td>\n",
       "      <td>Trauma</td>\n",
       "      <td>Extreme</td>\n",
       "      <td>2</td>\n",
       "      <td>51-60</td>\n",
       "      <td>AD3</td>\n",
       "      <td>41-50 d</td>\n",
       "    </tr>\n",
       "    <tr>\n",
       "      <th>2</th>\n",
       "      <td>c3</td>\n",
       "      <td>110</td>\n",
       "      <td>e</td>\n",
       "      <td>41</td>\n",
       "      <td>X</td>\n",
       "      <td>62</td>\n",
       "      <td>anesthesia</td>\n",
       "      <td>S</td>\n",
       "      <td>E</td>\n",
       "      <td>p31397</td>\n",
       "      <td>Trauma</td>\n",
       "      <td>Extreme</td>\n",
       "      <td>2</td>\n",
       "      <td>51-60</td>\n",
       "      <td>AD2</td>\n",
       "      <td>31-40 d</td>\n",
       "    </tr>\n",
       "    <tr>\n",
       "      <th>3</th>\n",
       "      <td>c4</td>\n",
       "      <td>126</td>\n",
       "      <td>b</td>\n",
       "      <td>42</td>\n",
       "      <td>Y</td>\n",
       "      <td>62</td>\n",
       "      <td>radiotherapy</td>\n",
       "      <td>R</td>\n",
       "      <td>D</td>\n",
       "      <td>p31397</td>\n",
       "      <td>Trauma</td>\n",
       "      <td>Extreme</td>\n",
       "      <td>2</td>\n",
       "      <td>51-60</td>\n",
       "      <td>AD4</td>\n",
       "      <td>41-50 d</td>\n",
       "    </tr>\n",
       "    <tr>\n",
       "      <th>4</th>\n",
       "      <td>c5</td>\n",
       "      <td>126</td>\n",
       "      <td>b</td>\n",
       "      <td>42</td>\n",
       "      <td>Y</td>\n",
       "      <td>62</td>\n",
       "      <td>radiotherapy</td>\n",
       "      <td>S</td>\n",
       "      <td>D</td>\n",
       "      <td>p31397</td>\n",
       "      <td>Trauma</td>\n",
       "      <td>Extreme</td>\n",
       "      <td>2</td>\n",
       "      <td>51-60</td>\n",
       "      <td>AD3</td>\n",
       "      <td>41-50 d</td>\n",
       "    </tr>\n",
       "  </tbody>\n",
       "</table>\n",
       "</div>"
      ],
      "text/plain": [
       "  case_id  Hospital_code Hospital_type_code  City_Code_Hospital  \\\n",
       "0      c1            108                  c                  43   \n",
       "1      c2            102                  c                  45   \n",
       "2      c3            110                  e                  41   \n",
       "3      c4            126                  b                  42   \n",
       "4      c5            126                  b                  42   \n",
       "\n",
       "  Hospital_region_code  Available Extra Rooms in Hospital    Department  \\\n",
       "0                    Z                                 63  radiotherapy   \n",
       "1                    Z                                 62  radiotherapy   \n",
       "2                    X                                 62    anesthesia   \n",
       "3                    Y                                 62  radiotherapy   \n",
       "4                    Y                                 62  radiotherapy   \n",
       "\n",
       "  Ward_Type Ward_Facility_Code patientid Type of Admission  \\\n",
       "0         R                  F    p31397         Emergency   \n",
       "1         S                  F    p31397            Trauma   \n",
       "2         S                  E    p31397            Trauma   \n",
       "3         R                  D    p31397            Trauma   \n",
       "4         S                  D    p31397            Trauma   \n",
       "\n",
       "  Severity of Illness  Visitors with Patient    Age Admission_Deposit     Stay  \n",
       "0             Extreme                      2  51-60               AD2   0-10 d  \n",
       "1             Extreme                      2  51-60               AD3  41-50 d  \n",
       "2             Extreme                      2  51-60               AD2  31-40 d  \n",
       "3             Extreme                      2  51-60               AD4  41-50 d  \n",
       "4             Extreme                      2  51-60               AD3  41-50 d  "
      ]
     },
     "execution_count": 196,
     "metadata": {},
     "output_type": "execute_result"
    }
   ],
   "source": [
    "tr_hel.head()"
   ]
  },
  {
   "cell_type": "markdown",
   "id": "f88baef6",
   "metadata": {},
   "source": [
    "- To make items in the frozenset be sorted, we need to convert those values of int type into string type."
   ]
  },
  {
   "cell_type": "code",
   "execution_count": 155,
   "id": "e4e69524",
   "metadata": {},
   "outputs": [],
   "source": [
    "def to_str(item):\n",
    "    string=[]\n",
    "    for i in range(len(item)):\n",
    "        string.append(str(item[i]))\n",
    "    return string"
   ]
  },
  {
   "cell_type": "code",
   "execution_count": 197,
   "id": "10a00e9d",
   "metadata": {},
   "outputs": [],
   "source": [
    "tr_hel[\"City_Code_Hospital\"] = to_str(tr_hel[\"City_Code_Hospital\"].values)\n",
    "tr_hel[\"Available Extra Rooms in Hospital\"] = to_str(tr_hel[\"Available Extra Rooms in Hospital\"].values)\n",
    "tr_hel[\"Visitors with Patient\"] = to_str(tr_hel[\"Visitors with Patient\"].values)\n",
    "tr_hel[\"Hospital_code\"] = to_str(tr_hel[\"Hospital_code\"].values)"
   ]
  },
  {
   "cell_type": "code",
   "execution_count": null,
   "id": "7e2ebd71",
   "metadata": {},
   "outputs": [],
   "source": []
  },
  {
   "cell_type": "markdown",
   "id": "1d2d7533",
   "metadata": {},
   "source": [
    "## Frequent Pattern Mining\n",
    "\n",
    "For the frequent pattern mining analysis, we need first change the **Pandas.DataFrame** object into **list**."
   ]
  },
  {
   "cell_type": "code",
   "execution_count": 171,
   "id": "cda532b2",
   "metadata": {},
   "outputs": [],
   "source": [
    "records = tr_hel.values.tolist()"
   ]
  },
  {
   "cell_type": "markdown",
   "id": "3c4f6c2f",
   "metadata": {},
   "source": [
    "- Frequent Pattern Mining"
   ]
  },
  {
   "cell_type": "markdown",
   "id": "140a965e",
   "metadata": {},
   "source": [
    "Noted that we have a total of 143 frozensets, which equals to the sum of the number of types of all the variables.\n",
    "\n",
    "We set the minimal Support threshold parameter as 0.04, meaning minimal support frequency equals to Number of observations * 0.04 = 12733.0. The reason why we choose 0.04 concerns the speed of running."
   ]
  },
  {
   "cell_type": "code",
   "execution_count": 43,
   "id": "d3bd6e5e",
   "metadata": {},
   "outputs": [
    {
     "data": {
      "text/plain": [
       "12733.0"
      ]
     },
     "execution_count": 43,
     "metadata": {},
     "output_type": "execute_result"
    }
   ],
   "source": [
    "minSupport = 0.04  # minimal support threshold\n",
    "len(records) * minSupport"
   ]
  },
  {
   "cell_type": "code",
   "execution_count": 223,
   "id": "ec8c046b",
   "metadata": {},
   "outputs": [
    {
     "name": "stdout",
     "output_type": "stream",
     "text": [
      "False\n"
     ]
    }
   ],
   "source": [
    "a = [1,2,3]\n",
    "print(type(a) is not list)"
   ]
  },
  {
   "cell_type": "code",
   "execution_count": 113,
   "id": "8a79d27f",
   "metadata": {},
   "outputs": [],
   "source": [
    "def createC1(dataset, dropcols):\n",
    "    if type(dataset) is not list:\n",
    "        datasetdropped = dataset.drop(columns = dropcols, inplace = False)\n",
    "        records = datasetdropped.values.tolist()\n",
    "    else:\n",
    "        records = dataset\n",
    "    C1 = []\n",
    "    for record in records:\n",
    "        for item in record:\n",
    "            if [item] not in C1:\n",
    "                C1.append([item])\n",
    "    try:\n",
    "        C1.sort()\n",
    "    except:\n",
    "        pass\n",
    "    return list(map(frozenset, C1))"
   ]
  },
  {
   "cell_type": "code",
   "execution_count": 114,
   "id": "b3917d16",
   "metadata": {},
   "outputs": [
    {
     "name": "stdout",
     "output_type": "stream",
     "text": [
      "[frozenset({8}), frozenset({'c'}), frozenset({3}), frozenset({'Z'}), frozenset({'radiotherapy'}), frozenset({'R'}), frozenset({'F'}), frozenset({2.0}), frozenset({'Emergency'}), frozenset({'Extreme'}), frozenset({'51-60'}), frozenset({'AD2'}), frozenset({'0-10'}), frozenset({'< 1m'}), frozenset({5}), frozenset({'S'}), frozenset({'Trauma'}), frozenset({'AD3'}), frozenset({'41-50'}), frozenset({'1 - 2m'}), frozenset({10}), frozenset({'e'}), frozenset({1}), frozenset({'X'}), frozenset({'anesthesia'}), frozenset({'E'}), frozenset({'31-40'}), frozenset({26}), frozenset({'b'}), frozenset({'Y'}), frozenset({'D'}), frozenset({'AD4'}), frozenset({23}), frozenset({'a'}), frozenset({6}), frozenset({'11-20'}), frozenset({32}), frozenset({'f'}), frozenset({9}), frozenset({'B'}), frozenset({4}), frozenset({'Q'}), frozenset({'d'}), frozenset({'gynecology'}), frozenset({22}), frozenset({'g'}), frozenset({'Urgent'}), frozenset({'21-30'}), frozenset({nan}), frozenset({16}), frozenset({'A'}), frozenset({'71-80'}), frozenset({'AD1'}), frozenset({29}), frozenset({12}), frozenset({21}), frozenset({28}), frozenset({11}), frozenset({'Moderate'}), frozenset({27}), frozenset({7}), frozenset({'C'}), frozenset({19}), frozenset({'Minor'}), frozenset({'2 - 3m'}), frozenset({'More than 100 Days'}), frozenset({'> 3m'}), frozenset({'TB & Chest disease'}), frozenset({14}), frozenset({13}), frozenset({31}), frozenset({'81-90'}), frozenset({24}), frozenset({17}), frozenset({25}), frozenset({'61-70'}), frozenset({15}), frozenset({'P'}), frozenset({30}), frozenset({18}), frozenset({'T'}), frozenset({'91-100'}), frozenset({20})]\n",
      "Total number of frozenset:  83\n"
     ]
    }
   ],
   "source": [
    "C1 = createC1(tr_hel.iloc[:1000], ['case_id','patientid'])\n",
    "print(C1)\n",
    "print(\"Total number of frozenset: \", len(C1))"
   ]
  },
  {
   "cell_type": "code",
   "execution_count": 106,
   "id": "f9def4b4",
   "metadata": {},
   "outputs": [],
   "source": [
    "def scanD(D, Ck, minSupport):\n",
    "    ssCnt = {}\n",
    "    for tid in D:\n",
    "        for can in Ck:\n",
    "            if can.issubset(tid):\n",
    "                ssCnt[can] = ssCnt.get(can, 0) + 1\n",
    "    numTrans = float(len(D))\n",
    "    retList = []\n",
    "    supportData = {}\n",
    "    for key in ssCnt:\n",
    "        support = ssCnt[key] / numTrans\n",
    "\n",
    "        if support >= minSupport:\n",
    "            retList.insert(0, key)\n",
    "\n",
    "        supportData[key] = support\n",
    "    return retList, supportData"
   ]
  },
  {
   "cell_type": "code",
   "execution_count": 107,
   "id": "d23f1ef8",
   "metadata": {},
   "outputs": [],
   "source": [
    "def aprioriGen(Lk, k):\n",
    "    retList = []\n",
    "    lenLk = len(Lk) \n",
    "    for i in range(lenLk):\n",
    "        for j in range(i + 1, lenLk):\n",
    "            L1 = list(Lk[i])[: k - 2]\n",
    "            L2 = list(Lk[j])[: k - 2]\n",
    "            L1.sort()\n",
    "            L2.sort()\n",
    "            if L1 == L2:\n",
    "                retList.append(Lk[i] | Lk[j])\n",
    "    return retList"
   ]
  },
  {
   "cell_type": "code",
   "execution_count": 108,
   "id": "52513e7e",
   "metadata": {},
   "outputs": [],
   "source": [
    "def apriori(dataset, minSupport, dropcols):\n",
    "    # Initial\n",
    "    if type(dataset) is not list:\n",
    "        datasetdropped = dataset.drop(columns = dropcols, inplace = False)\n",
    "        records = datasetdropped.values.tolist()\n",
    "    else:\n",
    "        records = dataset\n",
    "    C1 = createC1(records, dropcols)\n",
    "    D = list(map(set, records))\n",
    "\n",
    "    # Initial frequent itemsets, containing one element\n",
    "    L1, suppData = scanD(D, C1, minSupport)\n",
    "    L = [L1]\n",
    "\n",
    "    # One element -> more elements\n",
    "    k = 2\n",
    "\n",
    "    while (len(L[k - 2]) > 0):\n",
    "        Ck = aprioriGen(L[k - 2], k)\n",
    "        Lk, supK = scanD(D, Ck, minSupport)\n",
    "\n",
    "        suppData.update(supK)\n",
    "        L.append(Lk)\n",
    "        k += 1\n",
    "    return L, suppData"
   ]
  },
  {
   "cell_type": "markdown",
   "id": "0b235b09",
   "metadata": {},
   "source": [
    "L, suppData = apriori(records, 0.1)\n",
    "print(\"Frequent itemsets:\")\n",
    "for i in L:\n",
    "    for j in i:\n",
    "        print(j)\n",
    "#print(\"Frequent itemsets:\", L)\n",
    "\n",
    "print()\n",
    "print(\"Support of each itemset:\")\n",
    "for k in suppData.keys():\n",
    "    print(k,suppData[k] )\n",
    "#print(\"Support:\", suppData)"
   ]
  },
  {
   "cell_type": "code",
   "execution_count": null,
   "id": "d40d5ea2",
   "metadata": {},
   "outputs": [],
   "source": []
  },
  {
   "cell_type": "markdown",
   "id": "fe650910",
   "metadata": {},
   "source": [
    "Then let us find ***frozensets*** with items of variable ***Stay*** in ***L2***, and store the index of rows which contains the frequent records including object variable ***Stay*** and another item into a list."
   ]
  },
  {
   "cell_type": "code",
   "execution_count": 145,
   "id": "f0403d95",
   "metadata": {},
   "outputs": [
    {
     "name": "stdout",
     "output_type": "stream",
     "text": [
      "\n",
      "Frequent itemsets of Type of Admission in Trauma :\n",
      "frozenset({'gynecology'})\n",
      "frozenset({3.0})\n",
      "frozenset({2})\n",
      "\n",
      "Frequent itemsets of Type of Admission in Emergency :\n",
      "frozenset({'gynecology'})\n",
      "frozenset({2.0})\n",
      "frozenset({3})\n",
      "\n",
      "Frequent itemsets of Type of Admission in Urgent :\n",
      "frozenset({'gynecology'})\n",
      "frozenset({3})\n",
      "frozenset({'< 1m'})\n",
      "frozenset({2})\n",
      "frozenset({2, 'gynecology'})\n"
     ]
    }
   ],
   "source": [
    "# Type of Admission\n",
    "\n",
    "for item in set(tr_hel['Type of Admission'].values):\n",
    "    Li, suppDatai = apriori(tr_hel[tr_hel['Type of Admission'] == item], 0.625, ['case_id', 'patientid','Type of Admission', 'Stay', 'Age', 'Admission_Deposit'])\n",
    "    print('')\n",
    "    print(\"Frequent itemsets of Type of Admission in\", item, \":\")\n",
    "    for i in Li:\n",
    "        for j in i:\n",
    "            print(j)"
   ]
  },
  {
   "cell_type": "code",
   "execution_count": 148,
   "id": "0d9a0888",
   "metadata": {},
   "outputs": [
    {
     "name": "stdout",
     "output_type": "stream",
     "text": [
      "\n",
      "Frequent itemsets of Stay in 81-90 :\n",
      "frozenset({3})\n",
      "frozenset({2.0})\n",
      "frozenset({'gynecology'})\n",
      "\n",
      "Frequent itemsets of Stay in 61-70 :\n",
      "frozenset({3})\n",
      "frozenset({'gynecology'})\n",
      "frozenset({2})\n",
      "frozenset({2, 'gynecology'})\n",
      "\n",
      "Frequent itemsets of Stay in 11-20 :\n",
      "frozenset({'gynecology'})\n",
      "frozenset({3.0})\n",
      "frozenset({2})\n",
      "\n",
      "Frequent itemsets of Stay in More than 100 Days :\n",
      "frozenset({2})\n",
      "frozenset({'gynecology'})\n",
      "frozenset({3})\n",
      "\n",
      "Frequent itemsets of Stay in 0-10 :\n",
      "frozenset({'gynecology'})\n",
      "frozenset({2.0})\n",
      "frozenset({3})\n",
      "frozenset({2.0, 'gynecology'})\n",
      "\n",
      "Frequent itemsets of Stay in 41-50 :\n",
      "frozenset({'gynecology'})\n",
      "frozenset({3.0})\n",
      "frozenset({2})\n",
      "frozenset({2, 'gynecology'})\n",
      "\n",
      "Frequent itemsets of Stay in 91-100 :\n",
      "frozenset({3})\n",
      "frozenset({2.0})\n",
      "frozenset({'gynecology'})\n",
      "frozenset({4})\n",
      "\n",
      "Frequent itemsets of Stay in 71-80 :\n",
      "frozenset({'gynecology'})\n",
      "frozenset({4})\n",
      "frozenset({3.0})\n",
      "frozenset({2})\n",
      "\n",
      "Frequent itemsets of Stay in 21-30 :\n",
      "frozenset({'gynecology'})\n",
      "frozenset({3})\n",
      "frozenset({2})\n",
      "frozenset({2, 'gynecology'})\n",
      "\n",
      "Frequent itemsets of Stay in 51-60 :\n",
      "frozenset({3})\n",
      "frozenset({4.0})\n",
      "frozenset({'gynecology'})\n",
      "frozenset({2})\n",
      "\n",
      "Frequent itemsets of Stay in 31-40 :\n",
      "frozenset({4})\n",
      "frozenset({3.0})\n",
      "frozenset({'gynecology'})\n",
      "frozenset({2})\n"
     ]
    }
   ],
   "source": [
    "# Stay\n",
    "\n",
    "for item in set(tr_hel['Stay'].values):\n",
    "    Li, suppDatai = apriori(tr_hel[tr_hel['Stay'] == item], 0.625, ['case_id', 'patientid', 'Stay', 'Stay (Recoded)', 'Age', 'Admission_Deposit'])\n",
    "    print('')\n",
    "    print(\"Frequent itemsets of Stay in\", item, \":\")\n",
    "    for i in Li:\n",
    "        for j in i:\n",
    "            print(j)"
   ]
  },
  {
   "cell_type": "code",
   "execution_count": 118,
   "id": "09e55706",
   "metadata": {},
   "outputs": [],
   "source": [
    "Stay_mapping_mon = {'0-10': '< 1m','11-20': '< 1m', '21-30': '< 1m',\n",
    "                  '31-40': '1 - 2m','41-50': '1 - 2m', '51-60': '1 - 2m',\n",
    "                  '61-70': '2 - 3m', '71-80': '2 - 3m', '81-90': '2 - 3m',\n",
    "                  '91-100': '> 3m', 'More than 100 Days': '> 3m'}\n",
    "#p_hel = p_hel.assign(Stay = p_hel[\"Stay\"].map(Stay_mapping_3))\n",
    "tr_hel[\"Stay (Recoded)\"] = tr_hel[\"Stay\"].map(Stay_mapping_mon)"
   ]
  },
  {
   "cell_type": "code",
   "execution_count": 150,
   "id": "520c9369",
   "metadata": {},
   "outputs": [
    {
     "name": "stdout",
     "output_type": "stream",
     "text": [
      "\n",
      "Frequent itemsets of Stay in 2 - 3m :\n",
      "frozenset({'gynecology'})\n",
      "frozenset({3.0})\n",
      "frozenset({2})\n",
      "\n",
      "Frequent itemsets of Stay in > 3m :\n",
      "frozenset({2})\n",
      "frozenset({'gynecology'})\n",
      "frozenset({3})\n",
      "\n",
      "Frequent itemsets of Stay in 1 - 2m :\n",
      "frozenset({'gynecology'})\n",
      "frozenset({3.0})\n",
      "frozenset({4})\n",
      "frozenset({2})\n",
      "\n",
      "Frequent itemsets of Stay in < 1m :\n",
      "frozenset({'gynecology'})\n",
      "frozenset({2.0})\n",
      "frozenset({3})\n",
      "frozenset({2.0, 'gynecology'})\n"
     ]
    }
   ],
   "source": [
    "# Stay (Recoded)\n",
    "\n",
    "for item in set(tr_hel['Stay (Recoded)'].values):\n",
    "    Li, suppDatai = apriori(tr_hel[tr_hel['Stay (Recoded)'] == item], 0.63, ['case_id', 'patientid', 'Stay', 'Stay (Recoded)', 'Age', 'Admission_Deposit'])\n",
    "    print('')\n",
    "    print(\"Frequent itemsets of Stay in\", item, \":\")\n",
    "    for i in Li:\n",
    "        for j in i:\n",
    "            print(j)"
   ]
  },
  {
   "cell_type": "code",
   "execution_count": 127,
   "id": "63c32b0c",
   "metadata": {},
   "outputs": [],
   "source": [
    "## Admission_Deposit (by quantile)\n",
    "\n",
    "Admission = []\n",
    "q1 = np.percentile(hel[\"Admission_Deposit\"], 25)\n",
    "q2 = np.percentile(hel[\"Admission_Deposit\"], 50)\n",
    "q3 = np.percentile(hel[\"Admission_Deposit\"], 75)\n",
    "\n",
    "for i in hel[\"Admission_Deposit\"]:\n",
    "    if i < q1:\n",
    "        Admission.append('0-25%')\n",
    "    elif i > q3:\n",
    "        Admission.append('75-100%')\n",
    "    elif i < q2 and i >= q1:\n",
    "        Admission.append('25-50%')\n",
    "    else:\n",
    "        Admission.append('50-75%')\n",
    "tr_hel[\"Admission_Deposit (by quantile)\"] = Admission"
   ]
  },
  {
   "cell_type": "code",
   "execution_count": 151,
   "id": "d3df7a19",
   "metadata": {},
   "outputs": [
    {
     "name": "stdout",
     "output_type": "stream",
     "text": [
      "\n",
      "Frequent itemsets of Admission_Deposit in 0-25% :\n",
      "frozenset({2})\n",
      "frozenset({'gynecology'})\n",
      "\n",
      "Frequent itemsets of Admission_Deposit in 75-100% :\n",
      "frozenset({'gynecology'})\n",
      "frozenset({3.0})\n",
      "frozenset({2})\n",
      "\n",
      "Frequent itemsets of Admission_Deposit in 25-50% :\n",
      "frozenset({'gynecology'})\n",
      "frozenset({3})\n",
      "frozenset({2})\n",
      "\n",
      "Frequent itemsets of Admission_Deposit in 50-75% :\n",
      "frozenset({'gynecology'})\n",
      "frozenset({'< 1m'})\n",
      "frozenset({2.0})\n",
      "frozenset({3})\n"
     ]
    }
   ],
   "source": [
    "# Admission_Deposit (by quantile)\n",
    "\n",
    "for item in set(tr_hel['Admission_Deposit (by quantile)'].values):\n",
    "    Li, suppDatai = apriori(tr_hel[tr_hel['Admission_Deposit (by quantile)'] == item], 0.65, ['case_id', 'patientid', 'Admission_Deposit', 'Admission_Deposit (by quantile)', 'Stay', 'Age'])\n",
    "    print('')\n",
    "    print(\"Frequent itemsets of Admission_Deposit in\", item, \":\")\n",
    "    for i in Li:\n",
    "        for j in i:\n",
    "            print(j)"
   ]
  },
  {
   "cell_type": "code",
   "execution_count": 154,
   "id": "7ffc7110",
   "metadata": {},
   "outputs": [
    {
     "name": "stdout",
     "output_type": "stream",
     "text": [
      "\n",
      "Frequent itemsets of Admission_Deposit in AD4 :\n",
      "frozenset({3})\n",
      "frozenset({'gynecology'})\n",
      "frozenset({2})\n",
      "\n",
      "Frequent itemsets of Admission_Deposit in AD3 :\n",
      "frozenset({'gynecology'})\n",
      "frozenset({3.0})\n",
      "frozenset({2})\n",
      "\n",
      "Frequent itemsets of Admission_Deposit in AD1 :\n",
      "frozenset({2})\n",
      "frozenset({'gynecology'})\n",
      "\n",
      "Frequent itemsets of Admission_Deposit in AD2 :\n",
      "frozenset({'gynecology'})\n",
      "frozenset({2.0})\n",
      "frozenset({3})\n"
     ]
    }
   ],
   "source": [
    "# Admission_Deposit\n",
    "\n",
    "for item in set(tr_hel['Admission_Deposit'].values):\n",
    "    Li, suppDatai = apriori(tr_hel[tr_hel['Admission_Deposit'] == item], 0.65, ['case_id', 'patientid', 'Admission_Deposit', 'Admission_Deposit (by quantile)'])\n",
    "    print('')\n",
    "    print(\"Frequent itemsets of Admission_Deposit in\", item, \":\")\n",
    "    for i in Li:\n",
    "        for j in i:\n",
    "            print(j)"
   ]
  },
  {
   "cell_type": "code",
   "execution_count": 156,
   "id": "02695f80",
   "metadata": {},
   "outputs": [
    {
     "name": "stdout",
     "output_type": "stream",
     "text": [
      "\n",
      "Frequent itemsets of Department in surgery :\n",
      "frozenset({'Emergency'})\n",
      "frozenset({2.0})\n",
      "frozenset({2.0, 'Emergency'})\n",
      "\n",
      "Frequent itemsets of Department in gynecology :\n",
      "frozenset({3.0})\n",
      "frozenset({2})\n",
      "\n",
      "Frequent itemsets of Department in TB & Chest disease :\n",
      "frozenset({2})\n",
      "\n",
      "Frequent itemsets of Department in radiotherapy :\n",
      "frozenset({2.0})\n",
      "\n",
      "Frequent itemsets of Department in anesthesia :\n",
      "frozenset({3.0})\n",
      "frozenset({'< 1m'})\n",
      "frozenset({'Trauma'})\n",
      "frozenset({2})\n"
     ]
    }
   ],
   "source": [
    "# Department\n",
    "\n",
    "for item in set(tr_hel['Department'].values):\n",
    "    Li, suppDatai = apriori(tr_hel[tr_hel['Department'] == item], 0.65, ['case_id', 'patientid','Department', 'Stay', 'Age', 'Admission_Deposit'])\n",
    "    print('')\n",
    "    print(\"Frequent itemsets of Department in\", item, \":\")\n",
    "    for i in Li:\n",
    "        for j in i:\n",
    "            print(j)"
   ]
  },
  {
   "cell_type": "code",
   "execution_count": 286,
   "id": "bf384ffe",
   "metadata": {},
   "outputs": [
    {
     "name": "stdout",
     "output_type": "stream",
     "text": [
      "\n",
      "Frequent itemsets of Age in 51-60 :\n",
      "frozenset({'Moderate'})\n",
      "frozenset({'gynecology'})\n",
      "frozenset({'Trauma'})\n",
      "\n",
      "Frequent itemsets of Age in 21-30 :\n",
      "frozenset({'2'})\n",
      "frozenset({'gynecology'})\n",
      "frozenset({'Moderate'})\n",
      "\n",
      "Frequent itemsets of Age in 0-10 :\n",
      "frozenset({'gynecology'})\n",
      "\n",
      "Frequent itemsets of Age in 41-50 :\n",
      "frozenset({'gynecology'})\n",
      "frozenset({'Moderate'})\n",
      "\n",
      "Frequent itemsets of Age in 71-80 :\n",
      "frozenset({'Moderate'})\n",
      "frozenset({'Trauma'})\n",
      "frozenset({'gynecology'})\n",
      "\n",
      "Frequent itemsets of Age in 81-90 :\n",
      "frozenset({'gynecology'})\n",
      "frozenset({'Moderate'})\n",
      "\n",
      "Frequent itemsets of Age in 11-20 :\n",
      "frozenset({'gynecology'})\n",
      "frozenset({'2'})\n",
      "\n",
      "Frequent itemsets of Age in 91-100 :\n",
      "frozenset({'gynecology'})\n",
      "frozenset({'Moderate'})\n",
      "\n",
      "Frequent itemsets of Age in 31-40 :\n",
      "frozenset({'gynecology'})\n",
      "frozenset({'Moderate'})\n",
      "frozenset({'2'})\n",
      "\n",
      "Frequent itemsets of Age in 61-70 :\n",
      "frozenset({'Trauma'})\n",
      "frozenset({'gynecology'})\n",
      "frozenset({'Moderate'})\n"
     ]
    }
   ],
   "source": [
    "# Age\n",
    "\n",
    "for item in set(tr_hel['Age'].values):\n",
    "    Li, suppDatai = apriori(tr_hel[tr_hel['Age'] == item], 0.5, ['case_id','patientid','Age','Age (Recoded)','Stay','Admission_Deposit'])\n",
    "    print('')\n",
    "    print(\"Frequent itemsets of Age in\", item, \":\")\n",
    "    for i in Li:\n",
    "        for j in i:\n",
    "            print(j)"
   ]
  },
  {
   "cell_type": "code",
   "execution_count": 134,
   "id": "3cd94742",
   "metadata": {},
   "outputs": [],
   "source": [
    "Age_mapping_5 = {'0-10': 'child','11-20': 'child',\n",
    "                 '21-30': 'young adult', '31-40': 'young adult',\n",
    "                 '41-50': 'middle age', '51-60': 'middle age', \n",
    "                 '61-70': 'mature', '71-80': 'mature',\n",
    "                 '81-90': 'senior', '91-100': 'senior'}\n",
    "#p_hel = p_hel.assign(Stay = p_hel[\"Stay\"].map(Stay_mapping_3))\n",
    "tr_hel[\"Age (Recoded)\"] = tr_hel[\"Age\"].map(Age_mapping_5)"
   ]
  },
  {
   "cell_type": "code",
   "execution_count": 157,
   "id": "1fc1be7e",
   "metadata": {},
   "outputs": [
    {
     "name": "stdout",
     "output_type": "stream",
     "text": [
      "\n",
      "Frequent itemsets of Age in mature :\n",
      "frozenset({2})\n",
      "frozenset({'gynecology'})\n",
      "\n",
      "Frequent itemsets of Age in senior :\n",
      "frozenset({2.0})\n",
      "\n",
      "Frequent itemsets of Age in middle age :\n",
      "frozenset({'gynecology'})\n",
      "frozenset({2.0})\n",
      "\n",
      "Frequent itemsets of Age in child :\n",
      "frozenset({'< 1m'})\n",
      "frozenset({'gynecology'})\n",
      "frozenset({3})\n",
      "frozenset({2})\n",
      "\n",
      "Frequent itemsets of Age in young adult :\n",
      "frozenset({3.0})\n",
      "frozenset({2.0})\n",
      "frozenset({'gynecology'})\n",
      "frozenset({2.0, 'gynecology'})\n"
     ]
    }
   ],
   "source": [
    "# Age (Recoded)\n",
    "\n",
    "for item in set(tr_hel['Age (Recoded)'].values):\n",
    "    Li, suppDatai = apriori(tr_hel[tr_hel['Age (Recoded)'] == item], 0.65, ['case_id', 'patientid', 'Age', 'Age (Recoded)', 'Stay', 'Admission_Deposit'])\n",
    "    print('')\n",
    "    print(\"Frequent itemsets of Age in\", item, \":\")\n",
    "    for i in Li:\n",
    "        for j in i:\n",
    "            print(j)"
   ]
  },
  {
   "cell_type": "code",
   "execution_count": 158,
   "id": "2cbfb248",
   "metadata": {},
   "outputs": [
    {
     "data": {
      "text/plain": [
       "Department\n",
       "surgery                 1201\n",
       "TB & Chest disease      9584\n",
       "radiotherapy           28506\n",
       "anesthesia             29647\n",
       "gynecology            249387\n",
       "Name: Department, dtype: int64"
      ]
     },
     "execution_count": 158,
     "metadata": {},
     "output_type": "execute_result"
    }
   ],
   "source": [
    "tr_hel.groupby(by='Department')['Department'].count().sort_values()"
   ]
  },
  {
   "cell_type": "code",
   "execution_count": 167,
   "id": "e5e67ce6",
   "metadata": {},
   "outputs": [
    {
     "data": {
      "image/png": "[encoded data removed]",
      "text/plain": [
       "<Figure size 864x576 with 1 Axes>"
      ]
     },
     "metadata": {},
     "output_type": "display_data"
    }
   ],
   "source": [
    "import seaborn as sns\n",
    "\n",
    "sns.set(style=\"darkgrid\")\n",
    "sns.set(rc={'figure.figsize':(12,8)})\n",
    "ax = sns.countplot(x='Department', data=tr_hel)"
   ]
  },
  {
   "cell_type": "code",
   "execution_count": 169,
   "id": "5a9edb64",
   "metadata": {},
   "outputs": [
    {
     "data": {
      "image/png": "[encoded data removed]",
      "text/plain": [
       "<Figure size 864x576 with 1 Axes>"
      ]
     },
     "metadata": {},
     "output_type": "display_data"
    }
   ],
   "source": [
    "sns.set(rc={'figure.figsize':(12,8)})\n",
    "ax = sns.countplot(x='Stay (Recoded)', data=tr_hel)"
   ]
  },
  {
   "cell_type": "code",
   "execution_count": 170,
   "id": "55333960",
   "metadata": {},
   "outputs": [
    {
     "data": {
      "image/png": "[encoded data removed]",
      "text/plain": [
       "<Figure size 864x576 with 1 Axes>"
      ]
     },
     "metadata": {},
     "output_type": "display_data"
    }
   ],
   "source": [
    "sns.set(rc={'figure.figsize':(12,8)})\n",
    "ax = sns.countplot(x='Visitors with Patient', data=tr_hel)"
   ]
  },
  {
   "cell_type": "code",
   "execution_count": 172,
   "id": "b0fbca6a",
   "metadata": {},
   "outputs": [
    {
     "data": {
      "image/png": "[encoded data removed]",
      "text/plain": [
       "<Figure size 864x576 with 1 Axes>"
      ]
     },
     "metadata": {},
     "output_type": "display_data"
    }
   ],
   "source": [
    "sns.set(rc={'figure.figsize':(12,8)})\n",
    "ax = sns.countplot(x='Bed Grade', data=tr_hel)"
   ]
  },
  {
   "cell_type": "code",
   "execution_count": 228,
   "id": "fa32ef6e",
   "metadata": {},
   "outputs": [],
   "source": [
    "def loadDataset(data, colname, subtype):\n",
    "    '''Testing dataset'''\n",
    "    d1, d2 = read_data(data[data[colname] == subtype])\n",
    "    return d2\n",
    "def read_data(datatable):\n",
    "    combination = {}\n",
    "    dat = []\n",
    "    for index in datatable.index:\n",
    "\n",
    "        case = datatable.loc[index]['case_id']\n",
    "        lastcols = datatable.loc[index][1:]\n",
    "\n",
    "        var_ids = []\n",
    "        for variable in list(lastcols.items()):\n",
    "            if variable[1] == 1:\n",
    "                var_ids.append(item[0])\n",
    "\n",
    "        combination[case] = var_ids\n",
    "        dat.append(var_ids)\n",
    "    return combination, dat"
   ]
  }
 ],
 "metadata": {
  "kernelspec": {
   "display_name": "Python 3 (ipykernel)",
   "language": "python",
   "name": "python3"
  },
  "language_info": {
   "codemirror_mode": {
    "name": "ipython",
    "version": 3
   },
   "file_extension": ".py",
   "mimetype": "text/x-python",
   "name": "python",
   "nbconvert_exporter": "python",
   "pygments_lexer": "ipython3",
   "version": "3.9.12"
  }
 },
 "nbformat": 4,
 "nbformat_minor": 5
}
